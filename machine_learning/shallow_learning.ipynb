{
 "cells": [
  {
   "cell_type": "code",
   "execution_count": 18,
   "metadata": {},
   "outputs": [],
   "source": [
    "import pandas as pd\n",
    "from sklearn.ensemble import RandomForestClassifier\n",
    "from sklearn.model_selection import train_test_split, cross_validate\n",
    "from sklearn.metrics import accuracy_score, roc_auc_score, fbeta_score, precision_score, recall_score, confusion_matrix\n",
    "import joblib"
   ]
  },
  {
   "cell_type": "code",
   "execution_count": 10,
   "metadata": {},
   "outputs": [],
   "source": [
    "# Load dataset\n",
    "data = pd.read_csv(\"../dataset/trains_refined.csv\")\n",
    "\n",
    "# Feature extraction\n",
    "X = data[['train_ID', 'departure_time', 'arrival_time', 'train_type']]\n",
    "y = data['delay']"
   ]
  },
  {
   "cell_type": "code",
   "execution_count": 11,
   "metadata": {},
   "outputs": [],
   "source": [
    "# Split datastes in trining and test set\n",
    "X_train, X_test, y_train, y_test = train_test_split(X, y, test_size=0.2, random_state=42)"
   ]
  },
  {
   "cell_type": "code",
   "execution_count": 12,
   "metadata": {},
   "outputs": [],
   "source": [
    "# Random forest with 50 trees\n",
    "random_forest_model = RandomForestClassifier(n_estimators=50)\n",
    "random_forest_model.fit(X_train, y_train)\n",
    "\n",
    "# Model predictions\n",
    "y_pred = random_forest_model.predict(X_test)"
   ]
  },
  {
   "cell_type": "code",
   "execution_count": 13,
   "metadata": {},
   "outputs": [
    {
     "name": "stdout",
     "output_type": "stream",
     "text": [
      "--------------------- Random forest ---------------------\n",
      "\n",
      "Accuracy: 0.9242858554907581\n",
      "Precision: 0.9441157133464826\n",
      "Recall: 0.8664172800772294\n",
      "F2 score: 0.9242858554907581 micro 0.9172281545019856 macro 0.9237962956784775 weighted\n",
      "ROC AUC score: 0.9154217479318096\n",
      "\n",
      "---------------------------------------------------------\n"
     ]
    }
   ],
   "source": [
    "# Results\n",
    "print(\"--------------------- Random forest ---------------------\\n\")\n",
    "print(\"Accuracy:\", accuracy_score(y_test, y_pred))\n",
    "print(\"Precision:\", precision_score(y_test, y_pred))\n",
    "print(\"Recall:\", recall_score(y_test, y_pred))\n",
    "print(\"F2 score:\", fbeta_score(y_test, y_pred, beta=2, average=\"micro\"), \"micro\", fbeta_score(y_test, y_pred, beta=2, average=\"macro\"), \"macro\", fbeta_score(y_test, y_pred, beta=2, average=\"weighted\"), \"weighted\")\n",
    "print(\"ROC AUC score:\", roc_auc_score(y_test, y_pred))\n",
    "print(\"\\n---------------------------------------------------------\")"
   ]
  },
  {
   "cell_type": "code",
   "execution_count": 14,
   "metadata": {},
   "outputs": [
    {
     "name": "stdout",
     "output_type": "stream",
     "text": [
      "[[11522   425]\n",
      " [ 1107  7180]]\n"
     ]
    }
   ],
   "source": [
    "# Confusion matrx\n",
    "confusion = confusion_matrix(y_test, y_pred)\n",
    "print(confusion)"
   ]
  },
  {
   "cell_type": "code",
   "execution_count": 15,
   "metadata": {},
   "outputs": [
    {
     "data": {
      "text/plain": [
       "{'fit_time': array([7.30623531, 6.97741127, 7.02354503, 6.92211175, 7.18421555,\n",
       "        6.89667821, 7.05396128, 7.04911041, 6.78463674, 6.82973433]),\n",
       " 'score_time': array([0.1942842 , 0.20638943, 0.20322347, 0.22738576, 0.20645547,\n",
       "        0.20028424, 0.2013073 , 0.19528723, 0.20455098, 0.19861484]),\n",
       " 'test_f1': array([0.91090327, 0.92176743, 0.90633916, 0.90794201, 0.92179617,\n",
       "        0.90410959, 0.93037816, 0.9077584 , 0.88522954, 0.88770828]),\n",
       " 'test_roc_auc': array([0.97606461, 0.9825439 , 0.97957948, 0.97416094, 0.97731485,\n",
       "        0.95835998, 0.98672215, 0.97586463, 0.96866326, 0.96632491])}"
      ]
     },
     "execution_count": 15,
     "metadata": {},
     "output_type": "execute_result"
    }
   ],
   "source": [
    "cross_validate(random_forest_model, X, y, cv=10, scoring=['f1', 'roc_auc'])"
   ]
  },
  {
   "cell_type": "code",
   "execution_count": 16,
   "metadata": {},
   "outputs": [
    {
     "data": {
      "text/plain": [
       "['train_delay_clf_v2.pkl']"
      ]
     },
     "execution_count": 16,
     "metadata": {},
     "output_type": "execute_result"
    }
   ],
   "source": [
    "# Save model\n",
    "joblib.dump(random_forest_model, 'train_delay_clf_v2.pkl')"
   ]
  }
 ],
 "metadata": {
  "kernelspec": {
   "display_name": "Python 3",
   "language": "python",
   "name": "python3"
  },
  "language_info": {
   "codemirror_mode": {
    "name": "ipython",
    "version": 3
   },
   "file_extension": ".py",
   "mimetype": "text/x-python",
   "name": "python",
   "nbconvert_exporter": "python",
   "pygments_lexer": "ipython3",
   "version": "3.10.12"
  }
 },
 "nbformat": 4,
 "nbformat_minor": 2
}
