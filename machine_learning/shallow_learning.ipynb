{
 "cells": [
  {
   "cell_type": "code",
   "execution_count": 1,
   "metadata": {},
   "outputs": [],
   "source": [
    "import pandas as pd\n",
    "from sklearn.ensemble import RandomForestClassifier\n",
    "from sklearn.model_selection import train_test_split, cross_validate\n",
    "from sklearn.metrics import accuracy_score, roc_auc_score, fbeta_score, precision_score, recall_score\n",
    "import joblib"
   ]
  },
  {
   "cell_type": "code",
   "execution_count": 2,
   "metadata": {},
   "outputs": [],
   "source": [
    "# Load dataset\n",
    "data = pd.read_csv(\"../dataset/trains_refined.csv\")\n",
    "\n",
    "# Feature extraction\n",
    "X = data[['train_ID', 'departure_time', 'arrival_time', 'train_type']]\n",
    "y = data['delay']"
   ]
  },
  {
   "cell_type": "code",
   "execution_count": 3,
   "metadata": {},
   "outputs": [],
   "source": [
    "# Split datastes in trining and test set\n",
    "X_train, X_test, y_train, y_test = train_test_split(X, y, test_size=0.2, random_state=42)"
   ]
  },
  {
   "cell_type": "code",
   "execution_count": 4,
   "metadata": {},
   "outputs": [],
   "source": [
    "# Random forest with 50 trees\n",
    "random_forest_model = RandomForestClassifier(n_estimators=50)\n",
    "random_forest_model.fit(X_train, y_train)\n",
    "\n",
    "# Model predictions\n",
    "y_pred = random_forest_model.predict(X_test)"
   ]
  },
  {
   "cell_type": "code",
   "execution_count": 5,
   "metadata": {},
   "outputs": [
    {
     "name": "stdout",
     "output_type": "stream",
     "text": [
      "--------------------- Random forest ---------------------\n",
      "\n",
      "Accuracy: 0.926213304339231\n",
      "Precision: 0.9445171421093954\n",
      "Recall: 0.8710027754313986\n",
      "F2 score: 0.9262133043392309 micro 0.9194911856355366 macro 0.9257706533373032 weighted\n",
      "ROC AUC score: 0.9177563471197339\n",
      "\n",
      "---------------------------------------------------------\n"
     ]
    }
   ],
   "source": [
    "# Results\n",
    "print(\"--------------------- Random forest ---------------------\\n\")\n",
    "print(\"Accuracy:\", accuracy_score(y_test, y_pred))\n",
    "print(\"Precision:\", precision_score(y_test, y_pred))\n",
    "print(\"Recall:\", recall_score(y_test, y_pred))\n",
    "print(\"F2 score:\", fbeta_score(y_test, y_pred, beta=2, average=\"micro\"), \"micro\", fbeta_score(y_test, y_pred, beta=2, average=\"macro\"), \"macro\", fbeta_score(y_test, y_pred, beta=2, average=\"weighted\"), \"weighted\")\n",
    "print(\"ROC AUC score:\", roc_auc_score(y_test, y_pred))\n",
    "print(\"\\n---------------------------------------------------------\")"
   ]
  },
  {
   "cell_type": "code",
   "execution_count": 6,
   "metadata": {},
   "outputs": [
    {
     "data": {
      "text/plain": [
       "{'fit_time': array([7.15498781, 7.0705092 , 7.10279179, 7.2271359 , 7.25710344,\n",
       "        7.3177886 , 7.46990728, 7.12944627, 7.11811709, 7.06035233]),\n",
       " 'score_time': array([0.19364977, 0.19104266, 0.19787264, 0.20814705, 0.20047569,\n",
       "        0.1946044 , 0.20747805, 0.20225525, 0.20365357, 0.20084119]),\n",
       " 'test_f1': array([0.90962817, 0.92155388, 0.90918126, 0.9067954 , 0.92268886,\n",
       "        0.90456749, 0.93090909, 0.90782828, 0.88567149, 0.88886204]),\n",
       " 'test_roc_auc': array([0.97602919, 0.98322473, 0.9792014 , 0.97384672, 0.97650491,\n",
       "        0.95752732, 0.98698317, 0.97642937, 0.97007243, 0.96770631])}"
      ]
     },
     "execution_count": 6,
     "metadata": {},
     "output_type": "execute_result"
    }
   ],
   "source": [
    "cross_validate(random_forest_model, X, y, cv=10, scoring=['f1', 'roc_auc'])"
   ]
  },
  {
   "cell_type": "code",
   "execution_count": 7,
   "metadata": {},
   "outputs": [
    {
     "data": {
      "text/plain": [
       "['train_delay_clf_v2.pkl']"
      ]
     },
     "execution_count": 7,
     "metadata": {},
     "output_type": "execute_result"
    }
   ],
   "source": [
    "# Save model\n",
    "joblib.dump(random_forest_model, 'train_delay_clf_v2.pkl')"
   ]
  }
 ],
 "metadata": {
  "kernelspec": {
   "display_name": "Python 3",
   "language": "python",
   "name": "python3"
  },
  "language_info": {
   "codemirror_mode": {
    "name": "ipython",
    "version": 3
   },
   "file_extension": ".py",
   "mimetype": "text/x-python",
   "name": "python",
   "nbconvert_exporter": "python",
   "pygments_lexer": "ipython3",
   "version": "3.10.12"
  }
 },
 "nbformat": 4,
 "nbformat_minor": 2
}
