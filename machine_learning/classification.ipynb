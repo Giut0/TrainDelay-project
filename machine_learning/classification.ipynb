{
 "cells": [
  {
   "cell_type": "code",
   "execution_count": 1,
   "metadata": {},
   "outputs": [],
   "source": [
    "import pandas as pd\n",
    "from sklearn.ensemble import RandomForestClassifier\n",
    "from sklearn.model_selection import train_test_split, cross_validate\n",
    "from sklearn.metrics import accuracy_score, roc_auc_score, fbeta_score, precision_score, recall_score, confusion_matrix\n",
    "import joblib"
   ]
  },
  {
   "cell_type": "code",
   "execution_count": 2,
   "metadata": {},
   "outputs": [],
   "source": [
    "# Load dataset\n",
    "data = pd.read_csv(\"../dataset/trains_refined_classification.csv\")\n",
    "\n",
    "# Feature extraction\n",
    "X = data[['train_ID', 'departure_time', 'arrival_time', 'train_type']]\n",
    "y = data['delay']"
   ]
  },
  {
   "cell_type": "code",
   "execution_count": 3,
   "metadata": {},
   "outputs": [],
   "source": [
    "# Split datastes in trining and test set\n",
    "X_train, X_test, y_train, y_test = train_test_split(X, y, test_size=0.2, random_state=42)"
   ]
  },
  {
   "cell_type": "code",
   "execution_count": 4,
   "metadata": {},
   "outputs": [],
   "source": [
    "# Random forest with 50 trees\n",
    "random_forest_model = RandomForestClassifier(n_estimators=50)\n",
    "random_forest_model.fit(X_train, y_train)\n",
    "\n",
    "# Model predictions\n",
    "y_pred = random_forest_model.predict(X_test)"
   ]
  },
  {
   "cell_type": "code",
   "execution_count": 5,
   "metadata": {},
   "outputs": [
    {
     "name": "stdout",
     "output_type": "stream",
     "text": [
      "--------------------- Random forest ---------------------\n",
      "\n",
      "Accuracy: 0.926213304339231\n",
      "Precision: 0.9450995807127882\n",
      "Recall: 0.8703994207795342\n",
      "F1 score: 0.906212701802877\n",
      "ROC AUC score: 0.9176639273479994\n",
      "\n",
      "---------------------------------------------------------\n"
     ]
    }
   ],
   "source": [
    "# Results\n",
    "print(\"--------------------- Random forest ---------------------\\n\")\n",
    "print(\"Accuracy:\", accuracy_score(y_test, y_pred))\n",
    "print(\"Precision:\", precision_score(y_test, y_pred))\n",
    "print(\"Recall:\", recall_score(y_test, y_pred))\n",
    "print(\"F1 score:\", fbeta_score(y_test, y_pred, beta=1))\n",
    "print(\"ROC AUC score:\", roc_auc_score(y_test, y_pred))\n",
    "print(\"\\n---------------------------------------------------------\")"
   ]
  },
  {
   "cell_type": "code",
   "execution_count": 6,
   "metadata": {},
   "outputs": [
    {
     "name": "stdout",
     "output_type": "stream",
     "text": [
      "[[11528   419]\n",
      " [ 1074  7213]]\n"
     ]
    }
   ],
   "source": [
    "# Confusion matrx\n",
    "confusion = confusion_matrix(y_test, y_pred)\n",
    "print(confusion)"
   ]
  },
  {
   "cell_type": "code",
   "execution_count": 7,
   "metadata": {},
   "outputs": [
    {
     "data": {
      "text/plain": [
       "{'fit_time': array([10.03253269, 14.55844307, 16.50323009, 13.99523783,  9.87469673,\n",
       "         9.12974143, 11.86954451,  8.75477767,  8.69973993,  9.09843254]),\n",
       " 'score_time': array([0.38843155, 0.46927428, 0.45242572, 0.26992774, 0.25316906,\n",
       "        0.22610116, 0.24831724, 0.23620391, 0.2379353 , 0.23342681]),\n",
       " 'test_f1': array([0.90935961, 0.92130326, 0.90805311, 0.90683845, 0.92224323,\n",
       "        0.9051636 , 0.93012772, 0.90872416, 0.88625888, 0.89020556]),\n",
       " 'test_roc_auc': array([0.97562446, 0.98367385, 0.97918703, 0.97454989, 0.97646157,\n",
       "        0.95838151, 0.9872735 , 0.97643318, 0.97053726, 0.96595438])}"
      ]
     },
     "execution_count": 7,
     "metadata": {},
     "output_type": "execute_result"
    }
   ],
   "source": [
    "cross_validate(random_forest_model, X, y, cv=10, scoring=['f1', 'roc_auc'])"
   ]
  },
  {
   "cell_type": "code",
   "execution_count": 8,
   "metadata": {},
   "outputs": [
    {
     "data": {
      "text/plain": [
       "['train_delay_clf_v2.pkl']"
      ]
     },
     "execution_count": 8,
     "metadata": {},
     "output_type": "execute_result"
    }
   ],
   "source": [
    "# Save model\n",
    "joblib.dump(random_forest_model, 'train_delay_clf_v2.pkl')"
   ]
  }
 ],
 "metadata": {
  "kernelspec": {
   "display_name": "Python 3",
   "language": "python",
   "name": "python3"
  },
  "language_info": {
   "codemirror_mode": {
    "name": "ipython",
    "version": 3
   },
   "file_extension": ".py",
   "mimetype": "text/x-python",
   "name": "python",
   "nbconvert_exporter": "python",
   "pygments_lexer": "ipython3",
   "version": "3.10.12"
  }
 },
 "nbformat": 4,
 "nbformat_minor": 2
}
