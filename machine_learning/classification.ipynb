{
 "cells": [
  {
   "cell_type": "code",
   "execution_count": 1,
   "metadata": {},
   "outputs": [],
   "source": [
    "import pandas as pd\n",
    "from sklearn.ensemble import RandomForestClassifier\n",
    "from sklearn.model_selection import train_test_split, cross_validate\n",
    "from sklearn.metrics import accuracy_score, roc_auc_score, fbeta_score, precision_score, recall_score, confusion_matrix\n",
    "import joblib"
   ]
  },
  {
   "cell_type": "code",
   "execution_count": 2,
   "metadata": {},
   "outputs": [],
   "source": [
    "# Load dataset\n",
    "data = pd.read_csv(\"../dataset/trains_refined_classification.csv\")\n",
    "\n",
    "# Feature extraction\n",
    "X = data[['train_ID', 'departure_time', 'arrival_time', 'train_type']]\n",
    "y = data['delay']"
   ]
  },
  {
   "cell_type": "code",
   "execution_count": 3,
   "metadata": {},
   "outputs": [],
   "source": [
    "# Split datastes in trining and test set\n",
    "X_train, X_test, y_train, y_test = train_test_split(X, y, test_size=0.2, random_state=42)"
   ]
  },
  {
   "cell_type": "code",
   "execution_count": 4,
   "metadata": {},
   "outputs": [],
   "source": [
    "# Random forest with 50 trees\n",
    "random_forest_model = RandomForestClassifier(n_estimators=50)\n",
    "random_forest_model.fit(X_train, y_train)\n",
    "\n",
    "# Model predictions\n",
    "y_pred = random_forest_model.predict(X_test)"
   ]
  },
  {
   "cell_type": "code",
   "execution_count": 5,
   "metadata": {},
   "outputs": [
    {
     "name": "stdout",
     "output_type": "stream",
     "text": [
      "--------------------- Random forest ---------------------\n",
      "\n",
      "Accuracy: 0.9255213996243946\n",
      "Precision: 0.9449986873195064\n",
      "Recall: 0.8687100277543139\n",
      "F2 score: 0.9255213996243946 micro 0.9186038191427358 macro 0.9250500826529892 weighted\n",
      "ROC AUC score: 0.9168192308353893\n",
      "\n",
      "---------------------------------------------------------\n"
     ]
    }
   ],
   "source": [
    "# Results\n",
    "print(\"--------------------- Random forest ---------------------\\n\")\n",
    "print(\"Accuracy:\", accuracy_score(y_test, y_pred))\n",
    "print(\"Precision:\", precision_score(y_test, y_pred))\n",
    "print(\"Recall:\", recall_score(y_test, y_pred))\n",
    "print(\"F2 score:\", fbeta_score(y_test, y_pred, beta=2, average=\"micro\"), \"micro\", fbeta_score(y_test, y_pred, beta=2, average=\"macro\"), \"macro\", fbeta_score(y_test, y_pred, beta=2, average=\"weighted\"), \"weighted\")\n",
    "print(\"ROC AUC score:\", roc_auc_score(y_test, y_pred))\n",
    "print(\"\\n---------------------------------------------------------\")"
   ]
  },
  {
   "cell_type": "code",
   "execution_count": 6,
   "metadata": {},
   "outputs": [
    {
     "name": "stdout",
     "output_type": "stream",
     "text": [
      "[[11528   419]\n",
      " [ 1088  7199]]\n"
     ]
    }
   ],
   "source": [
    "# Confusion matrx\n",
    "confusion = confusion_matrix(y_test, y_pred)\n",
    "print(confusion)"
   ]
  },
  {
   "cell_type": "code",
   "execution_count": 7,
   "metadata": {},
   "outputs": [
    {
     "data": {
      "text/plain": [
       "{'fit_time': array([6.93908572, 6.90597916, 6.94295144, 6.98451948, 6.9846313 ,\n",
       "        7.07496667, 7.28123546, 7.04949903, 7.26603961, 7.12750983]),\n",
       " 'score_time': array([0.19523478, 0.19174576, 0.19562292, 0.19735718, 0.19716215,\n",
       "        0.19341469, 0.20243382, 0.1992712 , 0.20359635, 0.19560719]),\n",
       " 'test_f1': array([0.90732547, 0.91954312, 0.90710111, 0.90574484, 0.92150429,\n",
       "        0.90653728, 0.93106468, 0.90443126, 0.88847352, 0.88969346]),\n",
       " 'test_roc_auc': array([0.97570834, 0.98274887, 0.97906408, 0.97367173, 0.97657383,\n",
       "        0.95809535, 0.98642389, 0.97617969, 0.96977215, 0.96742599])}"
      ]
     },
     "execution_count": 7,
     "metadata": {},
     "output_type": "execute_result"
    }
   ],
   "source": [
    "cross_validate(random_forest_model, X, y, cv=10, scoring=['f1', 'roc_auc'])"
   ]
  },
  {
   "cell_type": "code",
   "execution_count": 8,
   "metadata": {},
   "outputs": [
    {
     "data": {
      "text/plain": [
       "['train_delay_clf_v2.pkl']"
      ]
     },
     "execution_count": 8,
     "metadata": {},
     "output_type": "execute_result"
    }
   ],
   "source": [
    "# Save model\n",
    "joblib.dump(random_forest_model, 'train_delay_clf_v2.pkl')"
   ]
  }
 ],
 "metadata": {
  "kernelspec": {
   "display_name": "Python 3",
   "language": "python",
   "name": "python3"
  },
  "language_info": {
   "codemirror_mode": {
    "name": "ipython",
    "version": 3
   },
   "file_extension": ".py",
   "mimetype": "text/x-python",
   "name": "python",
   "nbconvert_exporter": "python",
   "pygments_lexer": "ipython3",
   "version": "3.10.12"
  }
 },
 "nbformat": 4,
 "nbformat_minor": 2
}
