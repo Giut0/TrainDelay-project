{
 "cells": [
  {
   "cell_type": "code",
   "execution_count": 10,
   "metadata": {},
   "outputs": [],
   "source": [
    "import pandas as pd\n",
    "from sklearn.model_selection import train_test_split\n",
    "from sklearn.linear_model import BayesianRidge\n",
    "from sklearn.linear_model import LinearRegression\n",
    "from sklearn.ensemble import RandomForestRegressor\n",
    "from sklearn.metrics import mean_squared_error, r2_score"
   ]
  },
  {
   "cell_type": "code",
   "execution_count": 11,
   "metadata": {},
   "outputs": [],
   "source": [
    "# Load dataset\n",
    "data = pd.read_csv(\"../dataset/trains_refined_regression.csv\")\n",
    "\n",
    "# Feature extraction\n",
    "X = data[['train_ID', 'departure_time', 'arrival_time', 'train_type']]\n",
    "y = data['delay']"
   ]
  },
  {
   "cell_type": "code",
   "execution_count": 12,
   "metadata": {},
   "outputs": [],
   "source": [
    "# Dividi il dataset in set di addestramento e test\n",
    "X_train, X_test, y_train, y_test = train_test_split(X, y, test_size=0.2, random_state=42)\n"
   ]
  },
  {
   "cell_type": "code",
   "execution_count": 13,
   "metadata": {},
   "outputs": [],
   "source": [
    "\n",
    "# Crea il modello di regressione lineare\n",
    "model = LinearRegression()\n",
    "\n",
    "# Allena il modello\n",
    "model.fit(X_train, y_train)\n",
    "# Effettua le predizioni\n",
    "y_pred = model.predict(X_test)\n",
    "# Valuta le prestazioni del modello\n",
    "rmse = mean_squared_error(y_test, y_pred, squared=False)\n",
    "r2 = r2_score(y_test, y_pred)"
   ]
  },
  {
   "cell_type": "code",
   "execution_count": 14,
   "metadata": {},
   "outputs": [
    {
     "name": "stdout",
     "output_type": "stream",
     "text": [
      "--------------------- Linear Regression ---------------------\n",
      "\n",
      "RMSE: 7.245390538407914\n",
      "R^2: 0.0704820284110309\n",
      "\n",
      "---------------------------------------------------------\n"
     ]
    }
   ],
   "source": [
    "# Results\n",
    "print(\"--------------------- Linear Regression ---------------------\\n\")\n",
    "print(\"RMSE:\", mean_squared_error(y_test, y_pred, squared=False))\n",
    "print(\"R^2:\",r2_score(y_test, y_pred))\n",
    "print(\"\\n---------------------------------------------------------\")\n"
   ]
  },
  {
   "cell_type": "code",
   "execution_count": 15,
   "metadata": {},
   "outputs": [],
   "source": [
    "# Creazione del modello di regressione bayesiana\n",
    "bayesian_reg = BayesianRidge()\n",
    "\n",
    "# Addestramento del modello\n",
    "bayesian_reg.fit(X_train, y_train)\n",
    "\n",
    "# Effettuare previsioni\n",
    "y_pred = bayesian_reg.predict(X_test)"
   ]
  },
  {
   "cell_type": "code",
   "execution_count": 16,
   "metadata": {},
   "outputs": [
    {
     "name": "stdout",
     "output_type": "stream",
     "text": [
      "--------------------- Bayesian Regression ---------------------\n",
      "\n",
      "RMSE: 7.245371068262149\n",
      "R^2: 0.07048702409096985\n",
      "\n",
      "---------------------------------------------------------\n"
     ]
    }
   ],
   "source": [
    "# Results\n",
    "print(\"--------------------- Bayesian Regression ---------------------\\n\")\n",
    "print(\"RMSE:\", mean_squared_error(y_test, y_pred, squared=False))\n",
    "print(\"R^2:\",r2_score(y_test, y_pred))\n",
    "print(\"\\n---------------------------------------------------------\")"
   ]
  },
  {
   "cell_type": "code",
   "execution_count": 17,
   "metadata": {},
   "outputs": [],
   "source": [
    "model = RandomForestRegressor(n_estimators=50, random_state=42, criterion=\"poisson\")\n",
    "model.fit(X_train, y_train)\n",
    "\n",
    "# Effettua le previsioni\n",
    "y_pred = model.predict(X_test)"
   ]
  },
  {
   "cell_type": "code",
   "execution_count": 18,
   "metadata": {},
   "outputs": [
    {
     "name": "stdout",
     "output_type": "stream",
     "text": [
      "--------------------- Random Forest Regressor ---------------------\n",
      "\n",
      "RMSE: 4.912196173479969\n",
      "R^2: 0.5727465318997378\n",
      "\n",
      "---------------------------------------------------------\n"
     ]
    }
   ],
   "source": [
    "# Results\n",
    "print(\"--------------------- Random Forest Regressor ---------------------\\n\")\n",
    "print(\"RMSE:\", mean_squared_error(y_test, y_pred, squared=False))\n",
    "print(\"R^2:\",r2_score(y_test, y_pred))\n",
    "print(\"\\n---------------------------------------------------------\")"
   ]
  }
 ],
 "metadata": {
  "kernelspec": {
   "display_name": "Python 3",
   "language": "python",
   "name": "python3"
  },
  "language_info": {
   "codemirror_mode": {
    "name": "ipython",
    "version": 3
   },
   "file_extension": ".py",
   "mimetype": "text/x-python",
   "name": "python",
   "nbconvert_exporter": "python",
   "pygments_lexer": "ipython3",
   "version": "3.10.12"
  }
 },
 "nbformat": 4,
 "nbformat_minor": 2
}
